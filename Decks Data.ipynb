{
 "cells": [
  {
   "cell_type": "code",
   "execution_count": 17,
   "metadata": {},
   "outputs": [],
   "source": [
    "import requests\n",
    "import hashlib\n",
    "import time\n",
    "import pandas as pd\n",
    "from pandas import json_normalize\n",
    "\n",
    "secret_token = '696a6f47212d93f88cef71238cfb3d1cd357905b3e34eabd2bbc49124553c129'\n",
    "\n",
    "# Generate the Unix timestamp\n",
    "timestamp = int(time.time())\n",
    "\n",
    "# Construct the query string\n",
    "query_string = f'time={timestamp}'\n",
    "\n",
    "# Generate the hash\n",
    "hash_string = secret_token + str(timestamp)\n",
    "hash_value = hashlib.sha512(hash_string.encode()).hexdigest()\n",
    "\n",
    "# Construct the URL with the query string and hash\n",
    "url = f'https://api.fabdb.net/decks/?{query_string}&hash={hash_value}'\n",
    "\n",
    "parameters = {\n",
    "    \"page\": 1,\n",
    "    \"per_page\": 100\n",
    "}\n",
    "\n",
    "total_pages = 20\n",
    "\n",
    "# Set the request headers\n",
    "headers = {\n",
    "    'Authorization': f'Bearer {secret_token}',\n",
    "    'Accept': 'application/json'\n",
    "}\n",
    "\n",
    "data_records_decks = []\n"
   ]
  },
  {
   "cell_type": "code",
   "execution_count": 18,
   "metadata": {},
   "outputs": [
    {
     "name": "stdout",
     "output_type": "stream",
     "text": [
      "Request error on page 1: Expecting value: line 1 column 1 (char 0)\n",
      "Request error on page 2: Expecting value: line 1 column 1 (char 0)\n",
      "Request error on page 3: Expecting value: line 1 column 1 (char 0)\n",
      "Request error on page 4: Expecting value: line 1 column 1 (char 0)\n",
      "Request error on page 5: Expecting value: line 1 column 1 (char 0)\n",
      "Request error on page 6: Expecting value: line 1 column 1 (char 0)\n",
      "Request error on page 7: Expecting value: line 1 column 1 (char 0)\n",
      "Request error on page 8: Expecting value: line 1 column 1 (char 0)\n",
      "Request error on page 9: Expecting value: line 1 column 1 (char 0)\n",
      "Request error on page 10: Expecting value: line 1 column 1 (char 0)\n",
      "Request error on page 11: Expecting value: line 1 column 1 (char 0)\n",
      "Request error on page 12: Expecting value: line 1 column 1 (char 0)\n",
      "Request error on page 13: Expecting value: line 1 column 1 (char 0)\n",
      "Request error on page 14: Expecting value: line 1 column 1 (char 0)\n",
      "Request error on page 15: Expecting value: line 1 column 1 (char 0)\n",
      "Request error on page 16: Expecting value: line 1 column 1 (char 0)\n",
      "Request error on page 17: Expecting value: line 1 column 1 (char 0)\n",
      "Request error on page 18: Expecting value: line 1 column 1 (char 0)\n",
      "Request error on page 19: Expecting value: line 1 column 1 (char 0)\n",
      "Request error on page 20: Expecting value: line 1 column 1 (char 0)\n"
     ]
    }
   ],
   "source": [
    "data_records_decks = []\n",
    "page = 1\n",
    "\n",
    "while True:\n",
    "    parameters['page'] = page\n",
    "\n",
    "    query_string = '&'.join([f'{key}={value}' for key, value in parameters.items()])\n",
    "    hash_string = secret_token + str(timestamp) + query_string\n",
    "    hash_value = hashlib.sha512(hash_string.encode()).hexdigest()\n",
    "    full_url = f'{url}?{query_string}&hash={hash_value}'\n",
    "\n",
    "    response = requests.get(full_url, headers=headers)\n",
    "\n",
    "    try:\n",
    "        response.raise_for_status()  # Raise an exception if the request was unsuccessful\n",
    "\n",
    "        # Extract the relevant data records from the response\n",
    "        data = response.json()\n",
    "\n",
    "        if not data or 'data' not in data:  # Exit the loop if the response is empty or doesn't contain 'data'\n",
    "            break\n",
    "\n",
    "        data_records_decks.extend(data['data'])\n",
    "        page += 1\n",
    "    except requests.exceptions.RequestException as e:\n",
    "        # Handle any request-related errors\n",
    "        print(f\"Request error on page {page}: {e}\")\n",
    "        print(f\"Response content: {response.content}\")\n",
    "    except ValueError as e:\n",
    "        # Handle JSON decoding error\n",
    "        print(f\"JSON decoding error on page {page}: {e}\")\n",
    "        print(f\"Response content: {response.content}\")\n",
    "\n",
    "# Normalize the data before storing it in the dataframe\n",
    "df_decks = pd.DataFrame(data_records_decks)"
   ]
  }
 ],
 "metadata": {
  "kernelspec": {
   "display_name": "base",
   "language": "python",
   "name": "python3"
  },
  "language_info": {
   "codemirror_mode": {
    "name": "ipython",
    "version": 3
   },
   "file_extension": ".py",
   "mimetype": "text/x-python",
   "name": "python",
   "nbconvert_exporter": "python",
   "pygments_lexer": "ipython3",
   "version": "3.10.11"
  },
  "orig_nbformat": 4
 },
 "nbformat": 4,
 "nbformat_minor": 2
}
