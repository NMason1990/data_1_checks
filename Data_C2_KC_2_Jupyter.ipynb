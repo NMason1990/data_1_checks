{
 "cells": [
  {
   "cell_type": "code",
   "execution_count": null,
   "metadata": {},
   "outputs": [
    {
     "ename": "",
     "evalue": "",
     "output_type": "error",
     "traceback": [
      "\u001b[1;31mRunning cells with 'base' requires the ipykernel package.\n",
      "\u001b[1;31mRun the following command to install 'ipykernel' into the Python environment. \n",
      "\u001b[1;31mCommand: 'conda install -n base ipykernel --update-deps --force-reinstall'"
     ]
    }
   ],
   "source": [
    "import requests\n",
    "import hashlib\n",
    "import time\n",
    "import json as js\n",
    "import pandas as pd\n",
    "from pandas import json_normalize\n",
    "\n",
    "token = '0e556d07bc8f4aa14ce99df24bacbf6f58201b13257e797d7f8497d42ecc0e79'\n",
    "\n",
    "secret_token = '696a6f47212d93f88cef71238cfb3d1cd357905b3e34eabd2bbc49124553c129'\n",
    "\n",
    "# Generate the Unix timestamp\n",
    "timestamp = int(time.time())\n",
    "\n",
    "# Construct the query string\n",
    "query_string = f'time={timestamp}'\n",
    "\n",
    "# Generate the hash\n",
    "hash_string = secret_token + str(timestamp)\n",
    "hash_value = hashlib.sha512(hash_string.encode()).hexdigest()\n",
    "\n",
    "# Construct the URL with the query string and hash\n",
    "url = f'https://api.fabdb.net/cards?{query_string}&hash={hash_value}'\n",
    "\n",
    "parameters = {\n",
    "    \"page\":1,\n",
    "    \"per_page\":100\n",
    "} \n",
    "\n",
    "total_pages = 21\n",
    "# Set the request headers\n",
    "headers = {\n",
    "    'Authorization': f'Bearer {token}',\n",
    "    'Accept': 'application/json'\n",
    "}\n",
    "\n",
    "data_records = []\n",
    "\n",
    "for page in range(1, total_pages + 1):\n",
    "    parameters['page'] = page\n",
    "\n",
    "    response = requests.get(url, params=parameters)\n",
    "\n",
    "    print(data_records)\n"
   ]
  }
 ],
 "metadata": {
  "kernelspec": {
   "display_name": "base",
   "language": "python",
   "name": "python3"
  },
  "language_info": {
   "name": "python",
   "version": "3.10.9"
  },
  "orig_nbformat": 4
 },
 "nbformat": 4,
 "nbformat_minor": 2
}
