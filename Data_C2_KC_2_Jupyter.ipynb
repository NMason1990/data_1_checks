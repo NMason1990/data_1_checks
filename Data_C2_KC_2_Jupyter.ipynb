{
 "cells": [
  {
   "cell_type": "code",
   "execution_count": 19,
   "metadata": {},
   "outputs": [],
   "source": [
    "\n",
    "import requests\n",
    "import hashlib\n",
    "import time\n",
    "import json as js\n",
    "import pandas as pd\n",
    "from pandas import json_normalize\n",
    "\n",
    "\n",
    "\n",
    "\n",
    "\n",
    "\n",
    "    \n"
   ]
  },
  {
   "cell_type": "code",
   "execution_count": 20,
   "metadata": {},
   "outputs": [],
   "source": [
    "secret_token = '696a6f47212d93f88cef71238cfb3d1cd357905b3e34eabd2bbc49124553c129'\n",
    "\n",
    "# Generate the Unix timestamp\n",
    "timestamp = int(time.time())\n",
    "\n",
    "# Construct the query string\n",
    "query_string = f'time={timestamp}'\n",
    "\n",
    "# Generate the hash\n",
    "hash_string = secret_token + str(timestamp)\n",
    "hash_value = hashlib.sha512(hash_string.encode()).hexdigest()\n",
    "\n",
    "# Construct the URL with the query string and hash\n",
    "url = f'https://api.fabdb.net/cards?{query_string}&hash={hash_value}'\n",
    "\n",
    "parameters = {\n",
    "    \"page\":1,\n",
    "    \"per_page\":100\n",
    "} \n",
    "\n",
    "total_pages = 21\n",
    "# Set the request headers\n",
    "headers = {\n",
    "    'Authorization': f'Bearer {secret_token}',\n",
    "    'Accept': 'application/json'\n",
    "}\n",
    "\n",
    "data_records = []\n",
    "\n",
    "for page in range(1, total_pages + 1):\n",
    "    parameters['page'] = page\n",
    "    \n",
    "    response = requests.get(url, params=parameters)\n",
    "\n",
    "    # Process the response or store the data as per your requirement\n",
    "    data = response.json()\n",
    "\n",
    "    # Extract the relevant data records from the response\n",
    "    data_records = []\n",
    "    data_records.extend(data['data'])"
   ]
  },
  {
   "cell_type": "code",
   "execution_count": 21,
   "metadata": {},
   "outputs": [
    {
     "name": "stdout",
     "output_type": "stream",
     "text": [
      "                       identifier                      name legality  \\\n",
      "0              driving-blade-blue             Driving Blade       []   \n",
      "1     natures-path-pilgrimage-red  Nature's Path Pilgrimage       []   \n",
      "2  natures-path-pilgrimage-yellow  Nature's Path Pilgrimage       []   \n",
      "3    natures-path-pilgrimage-blue  Nature's Path Pilgrimage       []   \n",
      "4           fyendals-spring-tunic    Fyendal's Spring Tunic       []   \n",
      "5             hope-merchants-hood      Hope Merchant's Hood       []   \n",
      "6           heartened-cross-strap     Heartened Cross Strap       []   \n",
      "7                goliath-gauntlet          Goliath Gauntlet       []   \n",
      "8              snapdragon-scalers        Snapdragon Scalers       []   \n",
      "9                    ironrot-helm              Ironrot Helm       []   \n",
      "\n",
      "                      keywords                                     stats  \\\n",
      "0            [warrior, action]  {'cost': 2, 'defense': 3, 'resource': 3}   \n",
      "1            [warrior, action]  {'cost': 1, 'defense': 3, 'resource': 1}   \n",
      "2            [warrior, action]  {'cost': 1, 'defense': 3, 'resource': 2}   \n",
      "3            [warrior, action]  {'cost': 1, 'defense': 3, 'resource': 3}   \n",
      "4  [generic, equipment, chest]                            {'defense': 1}   \n",
      "5   [generic, equipment, head]                            {'defense': 0}   \n",
      "6  [generic, equipment, chest]                            {'defense': 0}   \n",
      "7   [generic, equipment, arms]                            {'defense': 0}   \n",
      "8   [generic, equipment, legs]                            {'defense': 0}   \n",
      "9   [generic, equipment, head]                            {'defense': 1}   \n",
      "\n",
      "                                                text rarity  \\\n",
      "0  Your next weapon attack this turn gains +1[att...      C   \n",
      "1  Your next weapon attack this turn gains +3[att...      C   \n",
      "2  Your next weapon attack this turn gains +2[att...      C   \n",
      "3  Your next weapon attack this turn gains +1[att...      C   \n",
      "4  At the start of your turn, if Fyendal's Spring...      L   \n",
      "5  **Instant**  - Destroy Hope Merchant's Hood: S...      C   \n",
      "6  **Action** - Destroy Heartened Cross Strap: Th...      C   \n",
      "7  **Action** - Destroy Goliath Gauntlet: The nex...      C   \n",
      "8  **Attack reaction** - Destroy Snapdragon Scale...      C   \n",
      "9  **Blade break** *(If you defend with Ironrot H...      C   \n",
      "\n",
      "                                               image  \\\n",
      "0  https://fabdb2.imgix.net/cards/printings/WTR14...   \n",
      "1  https://fabdb2.imgix.net/cards/printings/WTR14...   \n",
      "2  https://fabdb2.imgix.net/cards/printings/WTR14...   \n",
      "3  https://fabdb2.imgix.net/cards/printings/WTR14...   \n",
      "4  https://fabdb2.imgix.net/cards/printings/WTR15...   \n",
      "5  https://fabdb2.imgix.net/cards/printings/WTR15...   \n",
      "6  https://fabdb2.imgix.net/cards/printings/WTR15...   \n",
      "7  https://fabdb2.imgix.net/cards/printings/WTR15...   \n",
      "8  https://fabdb2.imgix.net/cards/printings/WTR15...   \n",
      "9  https://fabdb2.imgix.net/cards/printings/WTR15...   \n",
      "\n",
      "                                           printings  \n",
      "0  [{'id': 275, 'language': 'en', 'name': 'Drivin...  \n",
      "1  [{'id': 277, 'language': 'en', 'name': 'Nature...  \n",
      "2  [{'id': 279, 'language': 'en', 'name': 'Nature...  \n",
      "3  [{'id': 281, 'language': 'en', 'name': 'Nature...  \n",
      "4  [{'id': 283, 'language': 'en', 'name': 'Fyenda...  \n",
      "5  [{'id': 284, 'language': 'en', 'name': 'Hope M...  \n",
      "6  [{'id': 286, 'language': 'en', 'name': 'Hearte...  \n",
      "7  [{'id': 288, 'language': 'en', 'name': 'Goliat...  \n",
      "8  [{'id': 290, 'language': 'en', 'name': 'Snapdr...  \n",
      "9  [{'id': 292, 'language': 'en', 'name': 'Ironro...  \n"
     ]
    }
   ],
   "source": [
    "df = pd.DataFrame(data_records)\n",
    "\n",
    "with pd.option_context('display.max_rows', None,\n",
    "                       'display.max_columns', 9,\n",
    "                       'display.precision', 3,\n",
    "                       ):\n",
    "    print(df.head(10))"
   ]
  },
  {
   "attachments": {},
   "cell_type": "markdown",
   "metadata": {},
   "source": []
  },
  {
   "cell_type": "code",
   "execution_count": 22,
   "metadata": {},
   "outputs": [
    {
     "ename": "InvalidIndexError",
     "evalue": "(['stats'], ['rarity'])",
     "output_type": "error",
     "traceback": [
      "\u001b[1;31m---------------------------------------------------------------------------\u001b[0m",
      "\u001b[1;31mTypeError\u001b[0m                                 Traceback (most recent call last)",
      "File \u001b[1;32mc:\\Users\\NathanMason\\anaconda3\\lib\\site-packages\\pandas\\core\\indexes\\base.py:3802\u001b[0m, in \u001b[0;36mIndex.get_loc\u001b[1;34m(self, key, method, tolerance)\u001b[0m\n\u001b[0;32m   3801\u001b[0m \u001b[39mtry\u001b[39;00m:\n\u001b[1;32m-> 3802\u001b[0m     \u001b[39mreturn\u001b[39;00m \u001b[39mself\u001b[39;49m\u001b[39m.\u001b[39;49m_engine\u001b[39m.\u001b[39;49mget_loc(casted_key)\n\u001b[0;32m   3803\u001b[0m \u001b[39mexcept\u001b[39;00m \u001b[39mKeyError\u001b[39;00m \u001b[39mas\u001b[39;00m err:\n",
      "File \u001b[1;32mc:\\Users\\NathanMason\\anaconda3\\lib\\site-packages\\pandas\\_libs\\index.pyx:138\u001b[0m, in \u001b[0;36mpandas._libs.index.IndexEngine.get_loc\u001b[1;34m()\u001b[0m\n",
      "File \u001b[1;32mc:\\Users\\NathanMason\\anaconda3\\lib\\site-packages\\pandas\\_libs\\index.pyx:144\u001b[0m, in \u001b[0;36mpandas._libs.index.IndexEngine.get_loc\u001b[1;34m()\u001b[0m\n",
      "\u001b[1;31mTypeError\u001b[0m: '(['stats'], ['rarity'])' is an invalid key",
      "\nDuring handling of the above exception, another exception occurred:\n",
      "\u001b[1;31mInvalidIndexError\u001b[0m                         Traceback (most recent call last)",
      "Cell \u001b[1;32mIn[22], line 1\u001b[0m\n\u001b[1;32m----> 1\u001b[0m df2 \u001b[39m=\u001b[39m \u001b[39mprint\u001b[39m(df\u001b[39m.\u001b[39;49mapply(\u001b[39mlambda\u001b[39;49;00m row: row[df[[\u001b[39m'\u001b[39;49m\u001b[39mstats\u001b[39;49m\u001b[39m'\u001b[39;49m], [\u001b[39m'\u001b[39;49m\u001b[39mrarity\u001b[39;49m\u001b[39m'\u001b[39;49m]]\u001b[39m.\u001b[39;49misin([\u001b[39m'\u001b[39;49m\u001b[39mresource\u001b[39;49m\u001b[39m'\u001b[39;49m \u001b[39m'\u001b[39;49m\u001b[39m3\u001b[39;49m\u001b[39m'\u001b[39;49m],[\u001b[39m'\u001b[39;49m\u001b[39mL\u001b[39;49m\u001b[39m'\u001b[39;49m, \u001b[39m'\u001b[39;49m\u001b[39mM\u001b[39;49m\u001b[39m'\u001b[39;49m])]))\n",
      "File \u001b[1;32mc:\\Users\\NathanMason\\anaconda3\\lib\\site-packages\\pandas\\core\\frame.py:9568\u001b[0m, in \u001b[0;36mDataFrame.apply\u001b[1;34m(self, func, axis, raw, result_type, args, **kwargs)\u001b[0m\n\u001b[0;32m   9557\u001b[0m \u001b[39mfrom\u001b[39;00m \u001b[39mpandas\u001b[39;00m\u001b[39m.\u001b[39;00m\u001b[39mcore\u001b[39;00m\u001b[39m.\u001b[39;00m\u001b[39mapply\u001b[39;00m \u001b[39mimport\u001b[39;00m frame_apply\n\u001b[0;32m   9559\u001b[0m op \u001b[39m=\u001b[39m frame_apply(\n\u001b[0;32m   9560\u001b[0m     \u001b[39mself\u001b[39m,\n\u001b[0;32m   9561\u001b[0m     func\u001b[39m=\u001b[39mfunc,\n\u001b[1;32m   (...)\u001b[0m\n\u001b[0;32m   9566\u001b[0m     kwargs\u001b[39m=\u001b[39mkwargs,\n\u001b[0;32m   9567\u001b[0m )\n\u001b[1;32m-> 9568\u001b[0m \u001b[39mreturn\u001b[39;00m op\u001b[39m.\u001b[39;49mapply()\u001b[39m.\u001b[39m__finalize__(\u001b[39mself\u001b[39m, method\u001b[39m=\u001b[39m\u001b[39m\"\u001b[39m\u001b[39mapply\u001b[39m\u001b[39m\"\u001b[39m)\n",
      "File \u001b[1;32mc:\\Users\\NathanMason\\anaconda3\\lib\\site-packages\\pandas\\core\\apply.py:764\u001b[0m, in \u001b[0;36mFrameApply.apply\u001b[1;34m(self)\u001b[0m\n\u001b[0;32m    761\u001b[0m \u001b[39melif\u001b[39;00m \u001b[39mself\u001b[39m\u001b[39m.\u001b[39mraw:\n\u001b[0;32m    762\u001b[0m     \u001b[39mreturn\u001b[39;00m \u001b[39mself\u001b[39m\u001b[39m.\u001b[39mapply_raw()\n\u001b[1;32m--> 764\u001b[0m \u001b[39mreturn\u001b[39;00m \u001b[39mself\u001b[39;49m\u001b[39m.\u001b[39;49mapply_standard()\n",
      "File \u001b[1;32mc:\\Users\\NathanMason\\anaconda3\\lib\\site-packages\\pandas\\core\\apply.py:891\u001b[0m, in \u001b[0;36mFrameApply.apply_standard\u001b[1;34m(self)\u001b[0m\n\u001b[0;32m    890\u001b[0m \u001b[39mdef\u001b[39;00m \u001b[39mapply_standard\u001b[39m(\u001b[39mself\u001b[39m):\n\u001b[1;32m--> 891\u001b[0m     results, res_index \u001b[39m=\u001b[39m \u001b[39mself\u001b[39;49m\u001b[39m.\u001b[39;49mapply_series_generator()\n\u001b[0;32m    893\u001b[0m     \u001b[39m# wrap results\u001b[39;00m\n\u001b[0;32m    894\u001b[0m     \u001b[39mreturn\u001b[39;00m \u001b[39mself\u001b[39m\u001b[39m.\u001b[39mwrap_results(results, res_index)\n",
      "File \u001b[1;32mc:\\Users\\NathanMason\\anaconda3\\lib\\site-packages\\pandas\\core\\apply.py:907\u001b[0m, in \u001b[0;36mFrameApply.apply_series_generator\u001b[1;34m(self)\u001b[0m\n\u001b[0;32m    904\u001b[0m \u001b[39mwith\u001b[39;00m option_context(\u001b[39m\"\u001b[39m\u001b[39mmode.chained_assignment\u001b[39m\u001b[39m\"\u001b[39m, \u001b[39mNone\u001b[39;00m):\n\u001b[0;32m    905\u001b[0m     \u001b[39mfor\u001b[39;00m i, v \u001b[39min\u001b[39;00m \u001b[39menumerate\u001b[39m(series_gen):\n\u001b[0;32m    906\u001b[0m         \u001b[39m# ignore SettingWithCopy here in case the user mutates\u001b[39;00m\n\u001b[1;32m--> 907\u001b[0m         results[i] \u001b[39m=\u001b[39m \u001b[39mself\u001b[39;49m\u001b[39m.\u001b[39;49mf(v)\n\u001b[0;32m    908\u001b[0m         \u001b[39mif\u001b[39;00m \u001b[39misinstance\u001b[39m(results[i], ABCSeries):\n\u001b[0;32m    909\u001b[0m             \u001b[39m# If we have a view on v, we need to make a copy because\u001b[39;00m\n\u001b[0;32m    910\u001b[0m             \u001b[39m#  series_generator will swap out the underlying data\u001b[39;00m\n\u001b[0;32m    911\u001b[0m             results[i] \u001b[39m=\u001b[39m results[i]\u001b[39m.\u001b[39mcopy(deep\u001b[39m=\u001b[39m\u001b[39mFalse\u001b[39;00m)\n",
      "Cell \u001b[1;32mIn[22], line 1\u001b[0m, in \u001b[0;36m<lambda>\u001b[1;34m(row)\u001b[0m\n\u001b[1;32m----> 1\u001b[0m df2 \u001b[39m=\u001b[39m \u001b[39mprint\u001b[39m(df\u001b[39m.\u001b[39mapply(\u001b[39mlambda\u001b[39;00m row: row[df[[\u001b[39m'\u001b[39;49m\u001b[39mstats\u001b[39;49m\u001b[39m'\u001b[39;49m], [\u001b[39m'\u001b[39;49m\u001b[39mrarity\u001b[39;49m\u001b[39m'\u001b[39;49m]]\u001b[39m.\u001b[39misin([\u001b[39m'\u001b[39m\u001b[39mresource\u001b[39m\u001b[39m'\u001b[39m \u001b[39m'\u001b[39m\u001b[39m3\u001b[39m\u001b[39m'\u001b[39m],[\u001b[39m'\u001b[39m\u001b[39mL\u001b[39m\u001b[39m'\u001b[39m, \u001b[39m'\u001b[39m\u001b[39mM\u001b[39m\u001b[39m'\u001b[39m])]))\n",
      "File \u001b[1;32mc:\\Users\\NathanMason\\anaconda3\\lib\\site-packages\\pandas\\core\\frame.py:3807\u001b[0m, in \u001b[0;36mDataFrame.__getitem__\u001b[1;34m(self, key)\u001b[0m\n\u001b[0;32m   3805\u001b[0m \u001b[39mif\u001b[39;00m \u001b[39mself\u001b[39m\u001b[39m.\u001b[39mcolumns\u001b[39m.\u001b[39mnlevels \u001b[39m>\u001b[39m \u001b[39m1\u001b[39m:\n\u001b[0;32m   3806\u001b[0m     \u001b[39mreturn\u001b[39;00m \u001b[39mself\u001b[39m\u001b[39m.\u001b[39m_getitem_multilevel(key)\n\u001b[1;32m-> 3807\u001b[0m indexer \u001b[39m=\u001b[39m \u001b[39mself\u001b[39;49m\u001b[39m.\u001b[39;49mcolumns\u001b[39m.\u001b[39;49mget_loc(key)\n\u001b[0;32m   3808\u001b[0m \u001b[39mif\u001b[39;00m is_integer(indexer):\n\u001b[0;32m   3809\u001b[0m     indexer \u001b[39m=\u001b[39m [indexer]\n",
      "File \u001b[1;32mc:\\Users\\NathanMason\\anaconda3\\lib\\site-packages\\pandas\\core\\indexes\\base.py:3809\u001b[0m, in \u001b[0;36mIndex.get_loc\u001b[1;34m(self, key, method, tolerance)\u001b[0m\n\u001b[0;32m   3804\u001b[0m         \u001b[39mraise\u001b[39;00m \u001b[39mKeyError\u001b[39;00m(key) \u001b[39mfrom\u001b[39;00m \u001b[39merr\u001b[39;00m\n\u001b[0;32m   3805\u001b[0m     \u001b[39mexcept\u001b[39;00m \u001b[39mTypeError\u001b[39;00m:\n\u001b[0;32m   3806\u001b[0m         \u001b[39m# If we have a listlike key, _check_indexing_error will raise\u001b[39;00m\n\u001b[0;32m   3807\u001b[0m         \u001b[39m#  InvalidIndexError. Otherwise we fall through and re-raise\u001b[39;00m\n\u001b[0;32m   3808\u001b[0m         \u001b[39m#  the TypeError.\u001b[39;00m\n\u001b[1;32m-> 3809\u001b[0m         \u001b[39mself\u001b[39;49m\u001b[39m.\u001b[39;49m_check_indexing_error(key)\n\u001b[0;32m   3810\u001b[0m         \u001b[39mraise\u001b[39;00m\n\u001b[0;32m   3812\u001b[0m \u001b[39m# GH#42269\u001b[39;00m\n",
      "File \u001b[1;32mc:\\Users\\NathanMason\\anaconda3\\lib\\site-packages\\pandas\\core\\indexes\\base.py:5925\u001b[0m, in \u001b[0;36mIndex._check_indexing_error\u001b[1;34m(self, key)\u001b[0m\n\u001b[0;32m   5921\u001b[0m \u001b[39mdef\u001b[39;00m \u001b[39m_check_indexing_error\u001b[39m(\u001b[39mself\u001b[39m, key):\n\u001b[0;32m   5922\u001b[0m     \u001b[39mif\u001b[39;00m \u001b[39mnot\u001b[39;00m is_scalar(key):\n\u001b[0;32m   5923\u001b[0m         \u001b[39m# if key is not a scalar, directly raise an error (the code below\u001b[39;00m\n\u001b[0;32m   5924\u001b[0m         \u001b[39m# would convert to numpy arrays and raise later any way) - GH29926\u001b[39;00m\n\u001b[1;32m-> 5925\u001b[0m         \u001b[39mraise\u001b[39;00m InvalidIndexError(key)\n",
      "\u001b[1;31mInvalidIndexError\u001b[0m: (['stats'], ['rarity'])"
     ]
    }
   ],
   "source": [
    "df2 = print(df.apply(lambda row: row[df[['stats'], ['rarity']].isin(['resource' '3'],['L', 'M'])]))"
   ]
  }
 ],
 "metadata": {
  "kernelspec": {
   "display_name": "base",
   "language": "python",
   "name": "python3"
  },
  "language_info": {
   "codemirror_mode": {
    "name": "ipython",
    "version": 3
   },
   "file_extension": ".py",
   "mimetype": "text/x-python",
   "name": "python",
   "nbconvert_exporter": "python",
   "pygments_lexer": "ipython3",
   "version": "3.10.11"
  },
  "orig_nbformat": 4
 },
 "nbformat": 4,
 "nbformat_minor": 2
}
